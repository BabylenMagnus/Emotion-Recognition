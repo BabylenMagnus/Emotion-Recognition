{
 "cells": [
  {
   "cell_type": "code",
   "execution_count": null,
   "metadata": {},
   "outputs": [],
   "source": [
    "import pandas as pd\n",
    "import cv2\n",
    "import numpy as np\n",
    "import os"
   ]
  },
  {
   "cell_type": "code",
   "execution_count": null,
   "metadata": {},
   "outputs": [],
   "source": [
    "pixel = pd.read_csv('train/icml_face_data.csv')\n",
    "pixel"
   ]
  },
  {
   "cell_type": "code",
   "execution_count": null,
   "metadata": {},
   "outputs": [],
   "source": [
    "pixel.columns"
   ]
  },
  {
   "cell_type": "code",
   "execution_count": null,
   "metadata": {},
   "outputs": [],
   "source": [
    "pixels = pixel.drop(['emotion', ' Usage'], axis=1).values\n",
    "pixels"
   ]
  },
  {
   "cell_type": "code",
   "execution_count": null,
   "metadata": {},
   "outputs": [],
   "source": [
    "emo = pixel.drop([' pixels', ' Usage'], axis=1).values\n",
    "emo"
   ]
  },
  {
   "cell_type": "code",
   "execution_count": null,
   "metadata": {},
   "outputs": [],
   "source": [
    "angry = [x for i, x in enumerate(pixels) if emo[i] == [0]]\n",
    "len(angry)"
   ]
  },
  {
   "cell_type": "code",
   "execution_count": null,
   "metadata": {},
   "outputs": [],
   "source": [
    "disgust = [x for i, x in enumerate(pixels) if emo[i] == [1]]\n",
    "len(disgust)"
   ]
  },
  {
   "cell_type": "code",
   "execution_count": null,
   "metadata": {},
   "outputs": [],
   "source": [
    "fear = [x for i, x in enumerate(pixels) if emo[i] == [2]]\n",
    "len(fear)"
   ]
  },
  {
   "cell_type": "code",
   "execution_count": null,
   "metadata": {},
   "outputs": [],
   "source": [
    "happy = [x for i, x in enumerate(pixels) if emo[i] == [3]]\n",
    "len(happy)"
   ]
  },
  {
   "cell_type": "code",
   "execution_count": null,
   "metadata": {},
   "outputs": [],
   "source": [
    "sad = [x for i, x in enumerate(pixels) if emo[i] == [4]]\n",
    "len(sad)"
   ]
  },
  {
   "cell_type": "code",
   "execution_count": null,
   "metadata": {},
   "outputs": [],
   "source": [
    "surprise = [x for i, x in enumerate(pixels) if emo[i] == [5]]\n",
    "len(surprise)"
   ]
  },
  {
   "cell_type": "code",
   "execution_count": null,
   "metadata": {},
   "outputs": [],
   "source": [
    "neutral = [x for i, x in enumerate(pixels) if emo[i] == [6]]\n",
    "len(neutral)"
   ]
  },
  {
   "cell_type": "code",
   "execution_count": null,
   "metadata": {},
   "outputs": [],
   "source": [
    "emotions = {\n",
    "    'angry': angry,\n",
    "    'disgust': disgust,\n",
    "    'fear': fear,\n",
    "    'happy': happy,\n",
    "    'sad': sad,\n",
    "    'surpise': surprise,\n",
    "    'neutral': neutral\n",
    "}"
   ]
  },
  {
   "cell_type": "code",
   "execution_count": null,
   "metadata": {},
   "outputs": [],
   "source": [
    "for name, emo in emotions.items():\n",
    "    try:\n",
    "        os.makedirs('image/' + name)\n",
    "    except:\n",
    "        continue\n",
    "    path = 'image/' + name + '/'\n",
    "    for i, n in enumerate(emo):\n",
    "        n = n[0]\n",
    "        n = n.split()\n",
    "        n = [int(f) for f in n]\n",
    "        n = np.array(n)\n",
    "        n = n.reshape((48, 48))\n",
    "        cv2.imwrite(path + str(i) + '.jpg', n)\n"
   ]
  },
  {
   "cell_type": "code",
   "execution_count": null,
   "metadata": {},
   "outputs": [],
   "source": []
  }
 ],
 "metadata": {
  "kernelspec": {
   "display_name": "Python 3",
   "language": "python",
   "name": "python3"
  },
  "language_info": {
   "codemirror_mode": {
    "name": "ipython",
    "version": 3
   },
   "file_extension": ".py",
   "mimetype": "text/x-python",
   "name": "python",
   "nbconvert_exporter": "python",
   "pygments_lexer": "ipython3",
   "version": "3.7.6"
  }
 },
 "nbformat": 4,
 "nbformat_minor": 4
}
